{
 "cells": [
  {
   "cell_type": "code",
   "execution_count": null,
   "metadata": {},
   "outputs": [],
   "source": [
    "# pip install pydub pandas librosa tqdm\n",
    "\n",
    "import os\n",
    "import pandas as pd\n",
    "from pydub import AudioSegment\n",
    "from tqdm import tqdm\n",
    "\n",
    "# ==============================\n",
    "# 1. 设定数据路径\n",
    "# ==============================\n",
    "AUDIO_DIR = \"path_to_audio\"  # 存放 DAIC-WOZ 的长音频\n",
    "TEXT_DIR = \"path_to_transcripts\"  # 存放对应的文本转录（带时间戳）\n",
    "OUTPUT_AUDIO_DIR = \"path_to_output\"  # 切分后的短音频保存路径\n",
    "\n",
    "os.makedirs(OUTPUT_AUDIO_DIR, exist_ok=True)\n",
    "\n",
    "# ==============================\n",
    "# 2. 处理每个音频文件\n",
    "# ==============================\n",
    "def split_audio_by_transcript(audio_file, transcript_file, output_dir):\n",
    "    \"\"\" 根据文本转录时间戳切割音频，并保持同步 \"\"\"\n",
    "    \n",
    "    # 读取音频\n",
    "    audio = AudioSegment.from_wav(audio_file)\n",
    "    \n",
    "    # 读取文本转录，假设格式为 CSV，包含 [start_time, end_time, text]\n",
    "    df = pd.read_csv(transcript_file)  \n",
    "\n",
    "    # 遍历每一句话，根据时间戳切割音频\n",
    "    for idx, row in tqdm(df.iterrows(), total=len(df)):\n",
    "        start_time = int(row[\"start_time\"] * 1000)  # 转换为毫秒\n",
    "        end_time = int(row[\"end_time\"] * 1000)\n",
    "        text = row[\"text\"]\n",
    "\n",
    "        # 切割音频\n",
    "        segment = audio[start_time:end_time]\n",
    "\n",
    "        # 保存短音频文件\n",
    "        output_audio_path = os.path.join(output_dir, f\"{os.path.basename(audio_file).split('.')[0]}_{idx}.wav\")\n",
    "        segment.export(output_audio_path, format=\"wav\")\n",
    "\n",
    "        # 保存新的文本标注（可选）\n",
    "        with open(output_audio_path.replace(\".wav\", \".txt\"), \"w\") as f:\n",
    "            f.write(text)\n",
    "\n",
    "# ==============================\n",
    "# 3. 运行批处理\n",
    "# ==============================\n",
    "audio_files = [f for f in os.listdir(AUDIO_DIR) if f.endswith(\".wav\")]\n",
    "\n",
    "for audio_file in tqdm(audio_files):\n",
    "    transcript_file = os.path.join(TEXT_DIR, audio_file.replace(\".wav\", \".csv\"))\n",
    "    if os.path.exists(transcript_file):\n",
    "        split_audio_by_transcript(os.path.join(AUDIO_DIR, audio_file), transcript_file, OUTPUT_AUDIO_DIR)"
   ]
  }
 ],
 "metadata": {
  "kernelspec": {
   "display_name": "d2l",
   "language": "python",
   "name": "python3"
  },
  "language_info": {
   "name": "python",
   "version": "3.9.21"
  }
 },
 "nbformat": 4,
 "nbformat_minor": 2
}
